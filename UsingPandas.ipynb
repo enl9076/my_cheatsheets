{
 "cells": [
  {
   "cell_type": "markdown",
   "metadata": {},
   "source": [
    "# Guide to Working with Pandas Dataframes"
   ]
  },
  {
   "cell_type": "markdown",
   "metadata": {},
   "source": [
    "Obviously, import the required `pandas` module. Importing `numpy` can also be helpful if working with numbers/data."
   ]
  },
  {
   "cell_type": "code",
   "execution_count": 2,
   "metadata": {},
   "outputs": [],
   "source": [
    "import pandas as pd\n",
    "import numpy as np"
   ]
  },
  {
   "cell_type": "markdown",
   "metadata": {},
   "source": [
    "## Importing and Creating Dataframes"
   ]
  },
  {
   "cell_type": "code",
   "execution_count": 5,
   "metadata": {},
   "outputs": [],
   "source": [
    "# To import an existing dataset\n",
    "df = pd.read_csv('amazon-orders.csv')\n",
    "\n",
    "# To create a dataframe from scratch\n",
    "# my_df = pd.DataFrame(columns = ['col1', 'col2', 'col3', 'col4'])"
   ]
  },
  {
   "cell_type": "markdown",
   "metadata": {},
   "source": [
    "## Inspecting Data"
   ]
  },
  {
   "cell_type": "code",
   "execution_count": 8,
   "metadata": {},
   
       "[5 rows x 23 columns]"
      ]
     },
     "execution_count": 8,
     "metadata": {},
     "output_type": "execute_result"
    }
   ],
   "source": [
    "df.head()\n",
    "# df.tail()"
   ]
  },
  {
   "cell_type": "code",
   "execution_count": 9,
   "metadata": {},
   "outputs": [
    {
     "name": "stdout",
     "output_type": "stream",
     "text": [

      ]
     },
     "execution_count": 9,
     "metadata": {},
     "output_type": "execute_result"
    }
   ],
   "source": [
    "# Get information about the dataset as a whole\n",
    "df.info()\n",
    "\n",
    "# Determine the variable types in the dataset\n",
    "df.dtypes"
   ]
  },
  {
   "cell_type": "markdown",
   "metadata": {},
   "source": [
    "## Summarizing Data"
   ]
  },
  {
   "cell_type": "code",
   "execution_count": null,
   "metadata": {},
   "outputs": [],
   "source": [
    "df.describe()\n",
    "np.mean(df['col1'])\n",
    "np.average(df['col1'])\n",
    "np.median(df['col1'])\n",
    "stats.mode(df['col1'])\n",
    "var1_mean = df['col1'].mean()\n",
    "var2_mean = df['col2'].mean()\n",
    "\n",
    "df.groupby('col3').sum()\n",
    "# Get values of categorical variable\n",
    "df['col'].unique()\n",
    "\n",
    "# Get a table of proportions\n",
    "df['col'].value_counts(normalize=True).index[0]\n",
    "\n",
    "# Convert a variable to categorical\n",
    "buying_cost_categories = ['low','med','high','vhigh']\n",
    "df['col']=pd.Categorical(df['col'], buying_cost_categories, ordered = True)\n",
    "\n",
    "# Create numeric codes from categories\n",
    "np.median(df['col'].cat.codes)\n",
    "\n",
    "# Create dummy variables from a categircal variable (drop_first argument is optional)\n",
    "pd.get_dummies(df['col'], drop_first=True)"
   ]
  },
  {
   "cell_type": "markdown",
   "metadata": {},
   "source": [
    "## Analyzing Data"
   ]
  },
  {
   "cell_type": "code",
   "execution_count": null,
   "metadata": {},
   "outputs": [],
   "source": [
    "# Calculating correlations\n",
    "df.corr()\n",
    "var, p = pearsonr(df['col1'], df['col2'])   \n",
    "\n",
    "var = pd.crosstab(df['col1'], df['col2'])"
   ]
  }
 ],
 "metadata": {
  "interpreter": {
   "hash": "4b4b638602aa57b6ed9a06a47ea6c485d55d9a954cf88c5085a1d03239d61f45"
  },
  "kernelspec": {
   "display_name": "Python 3.10.0 64-bit",
   "name": "python3"
  },
  "language_info": {
   "codemirror_mode": {
    "name": "ipython",
    "version": 3
   },
   "file_extension": ".py",
   "mimetype": "text/x-python",
   "name": "python",
   "nbconvert_exporter": "python",
   "pygments_lexer": "ipython3",
   "version": "3.10.0"
  }
 },
 "nbformat": 4,
 "nbformat_minor": 5
}
