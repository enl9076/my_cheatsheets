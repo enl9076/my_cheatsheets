{
 "cells": [
  {
   "cell_type": "markdown",
   "metadata": {},
   "source": [
    "# Guide to Working with Pandas Dataframes"
   ]
  },
  {
   "cell_type": "markdown",
   "metadata": {},
   "source": [
    "Obviously, import the required `pandas` module. Importing `numpy` can also be helpful if working with numbers/data."
   ]
  },
  {
   "cell_type": "code",
   "execution_count": 2,
   "metadata": {},
   "outputs": [],
   "source": [
    "import pandas as pd\n",
    "import numpy as np"
   ]
  },
  {
   "cell_type": "markdown",
   "metadata": {},
   "source": [
    "## Importing and Creating Dataframes\n",
    "\n",
    "The dataset used here was retrieved from https://www.kaggle.com/anandhuh/covid19-in-world-countrieslatest-data"
   ]
  },
  {
   "cell_type": "code",
   "execution_count": 5,
   "metadata": {},
   "outputs": [],
   "source": [
    "# To import an existing dataset\n",
    "df = pd.read_csv('worldwide covid data.csv')\n",
    "\n",
    "# To create a dataframe from scratch\n",
    "# my_df = pd.DataFrame(columns = ['col1', 'col2', 'col3', 'col4'])"
   ]
  },
  {
   "cell_type": "markdown",
   "metadata": {},
   "source": [
    "## Inspecting Data"
   ]
  },
  {
   "cell_type": "code",
   "execution_count": 6,
   "metadata": {},
   "outputs": [
    {
     "data": {
      "text/html": [
       "<div>\n",
       "<style scoped>\n",
       "    .dataframe tbody tr th:only-of-type {\n",
       "        vertical-align: middle;\n",
       "    }\n",
       "\n",
       "    .dataframe tbody tr th {\n",
       "        vertical-align: top;\n",
       "    }\n",
       "\n",
       "    .dataframe thead th {\n",
       "        text-align: right;\n",
       "    }\n",
       "</style>\n",
       "<table border=\"1\" class=\"dataframe\">\n",
       "  <thead>\n",
       "    <tr style=\"text-align: right;\">\n",
       "      <th></th>\n",
       "      <th>Country</th>\n",
       "      <th>Total Cases</th>\n",
       "      <th>Total Deaths</th>\n",
       "      <th>Total Recovered</th>\n",
       "      <th>Active Cases</th>\n",
       "      <th>Total Cases/1M population</th>\n",
       "      <th>Deaths/1M population</th>\n",
       "      <th>Total Tests</th>\n",
       "      <th>Tests/1M population</th>\n",
       "      <th>Population</th>\n",
       "    </tr>\n",
       "  </thead>\n",
       "  <tbody>\n",
       "    <tr>\n",
       "      <th>0</th>\n",
       "      <td>Afghanistan</td>\n",
       "      <td>156307</td>\n",
       "      <td>7281</td>\n",
       "      <td>128791.0</td>\n",
       "      <td>20235.0</td>\n",
       "      <td>3898</td>\n",
       "      <td>182</td>\n",
       "      <td>774655.0</td>\n",
       "      <td>19319.0</td>\n",
       "      <td>40097200</td>\n",
       "    </tr>\n",
       "    <tr>\n",
       "      <th>1</th>\n",
       "      <td>Albania</td>\n",
       "      <td>186222</td>\n",
       "      <td>2937</td>\n",
       "      <td>175451.0</td>\n",
       "      <td>7834.0</td>\n",
       "      <td>64805</td>\n",
       "      <td>1022</td>\n",
       "      <td>1311540.0</td>\n",
       "      <td>456411.0</td>\n",
       "      <td>2873596</td>\n",
       "    </tr>\n",
       "    <tr>\n",
       "      <th>2</th>\n",
       "      <td>Algeria</td>\n",
       "      <td>206649</td>\n",
       "      <td>5927</td>\n",
       "      <td>141811.0</td>\n",
       "      <td>58911.0</td>\n",
       "      <td>4602</td>\n",
       "      <td>132</td>\n",
       "      <td>230861.0</td>\n",
       "      <td>5141.0</td>\n",
       "      <td>44907419</td>\n",
       "    </tr>\n",
       "    <tr>\n",
       "      <th>3</th>\n",
       "      <td>Andorra</td>\n",
       "      <td>15516</td>\n",
       "      <td>130</td>\n",
       "      <td>15242.0</td>\n",
       "      <td>144.0</td>\n",
       "      <td>200387</td>\n",
       "      <td>1679</td>\n",
       "      <td>193595.0</td>\n",
       "      <td>2500258.0</td>\n",
       "      <td>77430</td>\n",
       "    </tr>\n",
       "    <tr>\n",
       "      <th>4</th>\n",
       "      <td>Angola</td>\n",
       "      <td>64487</td>\n",
       "      <td>1713</td>\n",
       "      <td>53376.0</td>\n",
       "      <td>9398.0</td>\n",
       "      <td>1884</td>\n",
       "      <td>50</td>\n",
       "      <td>1092363.0</td>\n",
       "      <td>31915.0</td>\n",
       "      <td>34227629</td>\n",
       "    </tr>\n",
       "  </tbody>\n",
       "</table>\n",
       "</div>"
      ],
      "text/plain": [
       "       Country  Total Cases  Total Deaths  Total Recovered  Active Cases  \\\n",
       "0  Afghanistan       156307          7281         128791.0       20235.0   \n",
       "1      Albania       186222          2937         175451.0        7834.0   \n",
       "2      Algeria       206649          5927         141811.0       58911.0   \n",
       "3      Andorra        15516           130          15242.0         144.0   \n",
       "4       Angola        64487          1713          53376.0        9398.0   \n",
       "\n",
       "   Total Cases/1M population  Deaths/1M population  Total Tests  \\\n",
       "0                       3898                   182     774655.0   \n",
       "1                      64805                  1022    1311540.0   \n",
       "2                       4602                   132     230861.0   \n",
       "3                     200387                  1679     193595.0   \n",
       "4                       1884                    50    1092363.0   \n",
       "\n",
       "   Tests/1M population  Population  \n",
       "0              19319.0    40097200  \n",
       "1             456411.0     2873596  \n",
       "2               5141.0    44907419  \n",
       "3            2500258.0       77430  \n",
       "4              31915.0    34227629  "
      ]
     },
     "execution_count": 6,
     "metadata": {},
     "output_type": "execute_result"
    }
   ],
   "source": [
    "df.head()\n",
    "# df.tail()"
   ]
  },
  {
   "cell_type": "code",
   "execution_count": 7,
   "metadata": {},
   "outputs": [
    {
     "name": "stdout",
     "output_type": "stream",
     "text": [
      "<class 'pandas.core.frame.DataFrame'>\n",
      "RangeIndex: 196 entries, 0 to 195\n",
      "Data columns (total 10 columns):\n",
      " #   Column                     Non-Null Count  Dtype  \n",
      "---  ------                     --------------  -----  \n",
      " 0   Country                    196 non-null    object \n",
      " 1   Total Cases                196 non-null    int64  \n",
      " 2   Total Deaths               196 non-null    int64  \n",
      " 3   Total Recovered            194 non-null    float64\n",
      " 4   Active Cases               194 non-null    float64\n",
      " 5   Total Cases/1M population  196 non-null    int64  \n",
      " 6   Deaths/1M population       196 non-null    int64  \n",
      " 7   Total Tests                192 non-null    float64\n",
      " 8   Tests/1M population        192 non-null    float64\n",
      " 9   Population                 196 non-null    int64  \n",
      "dtypes: float64(4), int64(5), object(1)\n",
      "memory usage: 15.4+ KB\n"
     ]
    },
    {
     "data": {
      "text/plain": [
       "Country                       object\n",
       "Total Cases                    int64\n",
       "Total Deaths                   int64\n",
       "Total Recovered              float64\n",
       "Active Cases                 float64\n",
       "Total Cases/1M population      int64\n",
       "Deaths/1M population           int64\n",
       "Total Tests                  float64\n",
       "Tests/1M population          float64\n",
       "Population                     int64\n",
       "dtype: object"
      ]
     },
     "execution_count": 7,
     "metadata": {},
     "output_type": "execute_result"
    }
   ],
   "source": [
    "# Get information about the dataset as a whole\n",
    "df.info()\n",
    "\n",
    "# Determine the variable types in the dataset\n",
    "df.dtypes"
   ]
  },
  {
   "cell_type": "markdown",
   "metadata": {},
   "source": [
    "## Summarizing Data"
   ]
  },
  {
   "cell_type": "code",
   "execution_count": null,
   "metadata": {},
   "outputs": [],
   "source": [
    "df.describe()\n",
    "np.mean(df['col1'])\n",
    "np.average(df['col1'])\n",
    "np.median(df['col1'])\n",
    "stats.mode(df['col1'])\n",
    "var1_mean = df['col1'].mean()\n",
    "var2_mean = df['col2'].mean()\n",
    "\n",
    "df.groupby('col3').sum()\n",
    "# Get values of categorical variable\n",
    "df['col'].unique()\n",
    "\n",
    "# Get a table of proportions\n",
    "df['col'].value_counts(normalize=True).index[0]\n",
    "\n",
    "# Convert a variable to categorical\n",
    "buying_cost_categories = ['low','med','high','vhigh']\n",
    "df['col']=pd.Categorical(df['col'], buying_cost_categories, ordered = True)\n",
    "\n",
    "# Create numeric codes from categories\n",
    "np.median(df['col'].cat.codes)\n",
    "\n",
    "# Create dummy variables from a categircal variable (drop_first argument is optional)\n",
    "pd.get_dummies(df['col'], drop_first=True)"
   ]
  },
  {
   "cell_type": "markdown",
   "metadata": {},
   "source": [
    "## Analyzing Data"
   ]
  },
  {
   "cell_type": "code",
   "execution_count": null,
   "metadata": {},
   "outputs": [],
   "source": [
    "# Calculating correlations\n",
    "df.corr()\n",
    "var, p = pearsonr(df['col1'], df['col2'])   \n",
    "\n",
    "var = pd.crosstab(df['col1'], df['col2'])"
   ]
  }
 ],
 "metadata": {
  "interpreter": {
   "hash": "4b4b638602aa57b6ed9a06a47ea6c485d55d9a954cf88c5085a1d03239d61f45"
  },
  "kernelspec": {
   "display_name": "Python 3.10.0 64-bit",
   "name": "python3"
  },
  "language_info": {
   "codemirror_mode": {
    "name": "ipython",
    "version": 3
   },
   "file_extension": ".py",
   "mimetype": "text/x-python",
   "name": "python",
   "nbconvert_exporter": "python",
   "pygments_lexer": "ipython3",
   "version": "3.10.0"
  }
 },
 "nbformat": 4,
 "nbformat_minor": 5
}
