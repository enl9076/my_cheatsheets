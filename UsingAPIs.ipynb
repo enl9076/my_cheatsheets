{
 "cells": [
  {
   "cell_type": "markdown",
   "source": [
    "# Guide to Using APIs with Python"
   ],
   "metadata": {}
  },
  {
   "cell_type": "markdown",
   "source": [
    "## Import the required libraries\r\n",
    "\r\n",
    "**MUST DO THIS FIRST**"
   ],
   "metadata": {}
  },
  {
   "cell_type": "code",
   "execution_count": 1,
   "source": [
    "import pandas as pd\r\n",
    "import pprint, requests, json\r\n",
    "from pandas.io.json import json_normalize"
   ],
   "outputs": [],
   "metadata": {}
  },
  {
   "cell_type": "markdown",
   "source": [
    "## RapidAPI\r\n",
    "The following APIs are from the RapidAPI website so they all have the same basic format which is outlined in the code block below. Some sources have multiple API options. For the API key, sign up for a free account with RapidAPI and the keys will be generated.\r\n",
    "\r\n",
    "### Instagram\r\n",
    "*Option 1*: url = \"https://instagramdimashirokovv1.p.rapidapi.com/user/{username}\"  \r\n",
    "*Option 2*: url = \"https://instagram29.p.rapidapi.com/user/{username}\"\r\n",
    "\r\n",
    "### Reddit\r\n",
    "In addition to the **headers** argument, reddit requires a **params** argument. \r\n",
    "\r\n",
    "*For posts*: url = \"https://socialgrep.p.rapidapi.com/search/posts\"  \r\n",
    "*For comments*: url = \"https://socialgrep.p.rapidapi.com/search/comments\"\r\n",
    "\r\n",
    "### Hoaxy\r\n",
    "\r\n",
    "\r\n",
    "### Google Trends\r\n",
    "\r\n"
   ],
   "metadata": {
    "tags": []
   }
  },
  {
   "cell_type": "markdown",
   "source": [
    "#### Turning JSON data into a dataframe\r\n",
    "\r\n",
    "Two easy ways to do this:  \r\n",
    "`pd.json_normalize` - this is good for nested dictionaries, like the Reddit one below.  \r\n",
    "`pd.read_json` - this is good for flat dictionaries, like the Instagram one"
   ],
   "metadata": {}
  },
  {
   "cell_type": "markdown",
   "source": [
    "## Instagram Example"
   ],
   "metadata": {}
  },
  {
   "cell_type": "code",
   "execution_count": null,
   "source": [
    "# Option 1\r\n",
    "url = \"https://instagramdimashirokovv1.p.rapidapi.com/user/{username}\"\r\n",
    "\r\n",
    "headers = {\r\n",
    "    'x-rapidapi-key': \"api-key\",\r\n",
    "    'x-rapidapi-host': \"InstagramdimashirokovV1.p.rapidapi.com\"\r\n",
    "    }\r\n",
    "\r\n",
    "response = requests.request(\"GET\", url, headers=headers)\r\n",
    "\r\n",
    "print(response.text)\r\n",
    "\r\n",
    "# Option 2\r\n",
    "#url = \"https://instagram29.p.rapidapi.com/user/{username}\"\r\n",
    "\r\n",
    "#headers = {\r\n",
    "#    'x-rapidapi-key': \"api-key\",\r\n",
    "#    'x-rapidapi-host': \"instagram29.p.rapidapi.com\"\r\n",
    "#    }"
   ],
   "outputs": [],
   "metadata": {}
  },
  {
   "cell_type": "code",
   "execution_count": null,
   "source": [
    "# Read in the data and see what variables are there\r\n",
    "my_insta = json.loads(response.text)\r\n",
    "my_insta.keys()"
   ],
   "outputs": [],
   "metadata": {}
  },
  {
   "cell_type": "code",
   "execution_count": null,
   "source": [
    "# Turn the data into a dataframe\r\n",
    "insta_df = pd.read_json(my_insta)\r\n",
    "insta_df.info()"
   ],
   "outputs": [],
   "metadata": {}
  },
  {
   "cell_type": "markdown",
   "source": [
    "## Reddit Example"
   ],
   "metadata": {}
  },
  {
   "cell_type": "code",
   "execution_count": 31,
   "source": [
    "# Option 1\r\n",
    "url = \"https://socialgrep.p.rapidapi.com/search/posts\"\r\n",
    "\r\n",
    "querystring = {\"query\":\"conspiracy\"}\r\n",
    "\r\n",
    "headers = {\r\n",
    "    'x-rapidapi-key': \"api-key\",\r\n",
    "    'x-rapidapi-host': \"socialgrep.p.rapidapi.com\"\r\n",
    "    }\r\n",
    "\r\n",
    "response = requests.request(\"GET\", url, headers=headers, params=querystring)\r\n",
    "\r\n",
    "\r\n",
    "# Option 2\r\n",
    "#url = \"https://reddit3.p.rapidapi.com/subreddit\"\r\n",
    "\r\n",
    "#querystring = {\"url\":\"https://www.reddit.com/r/funny\"}\r\n",
    "\r\n",
    "#headers = {\r\n",
    "#    'x-rapidapi-key': \"api-key\",\r\n",
    "#    'x-rapidapi-host': \"reddit3.p.rapidapi.com\"\r\n",
    "#    }\r\n",
    "\r\n",
    "reddit = json.loads(response.text)\r\n",
    "reddit.keys()\r\n",
    "\r\n",
    "# Replace `record_path` with whatever variable you see after entering the .keys() command\r\n",
    "reddit_df = pd.json_normalize(reddit, record_path = ['data'])\r\n"
   ],
   "outputs": [],
   "metadata": {}
  },
  {
   "cell_type": "code",
   "execution_count": null,
   "source": [
    "# This function actually works better thank the regular print() for printing out nested lists like this\r\n",
    "pprint.pprint(reddit)"
   ],
   "outputs": [],
   "metadata": {
    "tags": []
   }
  },
  {
   "cell_type": "markdown",
   "source": [
    "This function takes the text and puts it into one string for text analytic purposes"
   ],
   "metadata": {}
  },
  {
   "cell_type": "code",
   "execution_count": null,
   "source": [
    "text = []\r\n",
    "\r\n",
    "for post in reddit_df['title']:\r\n",
    "    text.append(post)\r\n",
    "\r\n",
    "print(text)"
   ],
   "outputs": [],
   "metadata": {}
  },
  {
   "cell_type": "code",
   "execution_count": null,
   "source": [
    "# Export the dataframe to a csv file\r\n",
    "reddit_df.to_csv('reddit_data.csv')"
   ],
   "outputs": [],
   "metadata": {}
  },
  {
   "cell_type": "markdown",
   "source": [
    "## Open Weather Map Example"
   ],
   "metadata": {}
  },
  {
   "cell_type": "code",
   "execution_count": 2,
   "source": [
    "# For current weather data\r\n",
    "url = \"https://community-open-weather-map.p.rapidapi.com/weather\"\r\n",
    "\r\n",
    "querystring = {\"q\":\"buffalo,us\", \"units\":\"imperial\"}\r\n",
    "\r\n",
    "headers = {\r\n",
    "    'x-rapidapi-key': \"api-key\",\r\n",
    "    'x-rapidapi-host': \"community-open-weather-map.p.rapidapi.com\"\r\n",
    "    }\r\n",
    "\r\n",
    "response = requests.request(\"GET\", url, headers=headers, params=querystring)\r\n",
    "\r\n",
    "weather_dict = json.loads(response.text)\r\n",
    "\r\n",
    "weather_df = pd.json_normalize(weather_dict)"
   ],
   "outputs": [],
   "metadata": {}
  },
  {
   "cell_type": "code",
   "execution_count": null,
   "source": [
    "# Getting a glimpse of the data with head() and the types of variables with dtypes()\r\n",
    "weather_df.head()\r\n",
    "weather_df.dtypes"
   ],
   "outputs": [],
   "metadata": {}
  },
  {
   "cell_type": "code",
   "execution_count": null,
   "source": [
    "# Printing out what the current weather is like\r\n",
    "weather = weather_dict['weather']\r\n",
    "print('The current weather condition in %s is %s.' % (weather_dict['name'],weather[0]['description']))\r\n",
    "print('The current temperature is %s degrees Farenheit with %s percent humidity.' % (weather_dict['main']['temp'], weather_dict['main']['humidity']))\r\n",
    "print('But it feels like it is %s degrees....' % (weather_dict['main']['feels_like']))"
   ],
   "outputs": [],
   "metadata": {}
  },
  {
   "cell_type": "code",
   "execution_count": null,
   "source": [
    "# To convert the unix timestamp into human readable format\r\n",
    "import time, datetime\r\n",
    "print(datetime.datetime.fromtimestamp(weather_df['sys.sunrise']))\r\n",
    "print(datetime.datetime.fromtimestamp(weather_df['sys.sunset']))"
   ],
   "outputs": [],
   "metadata": {}
  },
  {
   "cell_type": "code",
   "execution_count": null,
   "source": [
    "# Selecting only columns of interest\r\n",
    "weather_df[['name','main.temp','main.temp_min','main.temp_max','main.feels_like','main.humidity']]"
   ],
   "outputs": [],
   "metadata": {}
  },
  {
   "cell_type": "markdown",
   "source": [
    "## Hoaxy Example"
   ],
   "metadata": {}
  },
  {
   "cell_type": "code",
   "execution_count": null,
   "source": [
    "url = \"https://api-hoaxy.p.rapidapi.com/articles\"\r\n",
    "\r\n",
    "querystring = {\"query\":\"Trump OR Biden AND date_published:[2020-03-30 TO 2020-12-31]\",\"use_lucene_syntax\":\"true\",\"sort_by\":\"relevant\"}\r\n",
    "\r\n",
    "headers = {\r\n",
    "    'x-rapidapi-key': \"api-key\",\r\n",
    "    'x-rapidapi-host': \"api-hoaxy.p.rapidapi.com\"\r\n",
    "    }\r\n",
    "\r\n",
    "response = requests.request(\"GET\", url, headers=headers, params=querystring)\r\n",
    "\r\n",
    "hoaxy = json.loads(response.text)\r\n",
    "hoax_df = pd.json_normalize(hoaxy, record_path = ['articles'])\r\n",
    "\r\n",
    "\r\n",
    "print(hoaxy.keys())\r\n",
    "print(hoax_df.head())\r\n"
   ],
   "outputs": [],
   "metadata": {}
  },
  {
   "cell_type": "markdown",
   "source": [
    "## Google Trends Example"
   ],
   "metadata": {}
  },
  {
   "cell_type": "code",
   "execution_count": null,
   "source": [
    "url = \"https://google-news.p.rapidapi.com/v1/search\"\r\n",
    "\r\n",
    "querystring = {\"q\":\"news\",\"country\":\"US\",\"lang\":\"en\"}\r\n",
    "\r\n",
    "headers = {\r\n",
    "    'x-rapidapi-key': \"api-key\",\r\n",
    "    'x-rapidapi-host': \"google-news.p.rapidapi.com\"\r\n",
    "    }\r\n",
    "\r\n",
    "response = requests.request(\"GET\", url, headers=headers, params=querystring)\r\n",
    "\r\n",
    "searchResults = json.loads(response.text)\r\n",
    "df = pd.json_normalize(searchResults, record_path = ['articles'])\r\n",
    "df.head()"
   ],
   "outputs": [],
   "metadata": {}
  },
  {
   "cell_type": "code",
   "execution_count": null,
   "source": [
    "pprint.pprint(searchResults)"
   ],
   "outputs": [],
   "metadata": {}
  },
  {
   "cell_type": "code",
   "execution_count": 28,
   "source": [
    "df = pd.json_normalize(searchResults, record_path = ['articles'])\r\n",
    "df['published'] = pd.to_datetime(df['published'])\r\n",
    "df = df.sort_values(by='published', ascending=False)\r\n",
    "df.head(10)\r\n",
    "df.to_csv('google_news_data.csv')\r\n"
   ],
   "outputs": [],
   "metadata": {}
  }
 ],
 "metadata": {
  "kernelspec": {
   "name": "python3",
   "display_name": "Python 3.8.8 64-bit ('base': conda)"
  },
  "language_info": {
   "codemirror_mode": {
    "name": "ipython",
    "version": 3
   },
   "file_extension": ".py",
   "mimetype": "text/x-python",
   "name": "python",
   "nbconvert_exporter": "python",
   "pygments_lexer": "ipython3",
   "version": "3.8.8"
  },
  "interpreter": {
   "hash": "eed0ff3c3f7dbdf7703bfa80ad1ad3806aeb8f63baa04d3527d904229c654093"
  }
 },
 "nbformat": 4,
 "nbformat_minor": 5
}