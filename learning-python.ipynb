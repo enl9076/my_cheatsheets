{
 "cells": [
  {
   "cell_type": "markdown",
   "source": [
    "# Basic Python Reference Guide"
   ],
   "metadata": {}
  },
  {
   "cell_type": "markdown",
   "source": [
    "## Lists and Dictionaries"
   ],
   "metadata": {}
  },
  {
   "cell_type": "code",
   "execution_count": null,
   "source": [
    "# This is a list\r\n",
    "my_list = [\"cat\", \"bat\", 1, 2, 3, 4, True]\r\n",
    "print(my_list)"
   ],
   "outputs": [],
   "metadata": {}
  },
  {
   "cell_type": "markdown",
   "source": [
    "You can add or remove items from a list using the following methods."
   ],
   "metadata": {}
  },
  {
   "cell_type": "code",
   "execution_count": null,
   "source": [
    "# Add to the end of the list\r\n",
    "my_list.append(\"rat\")\r\n",
    "print(my_list)\r\n",
    "\r\n",
    "# Insert something in middle of list - first argument is the index of the list, the second is the item to insert\r\n",
    "my_list.insert(6, 5)\r\n",
    "print(my_list)\r\n",
    "\r\n",
    "# Remove item from list\r\n",
    "my_list.remove(\"rat\")\r\n",
    "print(my_list)\r\n",
    "\r\n",
    "# Or can use the del statement and index of item to remove\r\n",
    "del my_list[7]\r\n",
    "print(my_list)"
   ],
   "outputs": [],
   "metadata": {}
  },
  {
   "cell_type": "markdown",
   "source": [
    "You can access items within a list using the following methods.\r\n",
    "\r\n",
    "*Note: In Python, the index starts at 0*"
   ],
   "metadata": {}
  },
  {
   "cell_type": "code",
   "execution_count": null,
   "source": [
    "# Access items with the index\r\n",
    "print(my_list[1])\r\n",
    "\r\n",
    "# Can use that in string concatenation also - works without the print() statement too\r\n",
    "print(\"I have a \" + my_list[0])\r\n",
    "print(\"I have a \" + my_list[0] + \" who is \" + str(my_list[6]) + \" years old\")\r\n",
    "\r\n",
    "# Or find the index of a given item\r\n",
    "print(my_list.index('cat'))"
   ],
   "outputs": [],
   "metadata": {}
  },
  {
   "cell_type": "code",
   "execution_count": null,
   "source": [
    "# Use slicing to create a subset of original list\r\n",
    "shorter_list = my_list[2:6]\r\n",
    "shorter_list"
   ],
   "outputs": [],
   "metadata": {}
  },
  {
   "cell_type": "code",
   "execution_count": null,
   "source": [
    "# Using lists in loops\r\n",
    "for item in my_list:\r\n",
    "    print(item)\r\n",
    "\r\n",
    "for i in range(len(my_list)):\r\n",
    "    print('Index ' + str(i) + ' in list is: ' + str(my_list[i]))\r\n",
    "\r\n",
    "# This loop does the exact same as the one above using the enumerate function\r\n",
    "for index, item in enumerate(my_list):\r\n",
    "    print('Index ' + str(index) + ' in list is: ' + str(item))"
   ],
   "outputs": [],
   "metadata": {}
  },
  {
   "cell_type": "code",
   "execution_count": null,
   "source": [
    "# The in and not in operators - returns boolean value\r\n",
    "'cat' in my_list\r\n",
    "'bat' not in my_list\r\n",
    "\r\n",
    "if 'cat' not in my_list:\r\n",
    "    print('There is no cat')\r\n",
    "else:\r\n",
    "    print('There is a cat!')"
   ],
   "outputs": [],
   "metadata": {}
  },
  {
   "cell_type": "markdown",
   "source": [
    "You can generate random lists or select a random item from a list with the `random` module."
   ],
   "metadata": {}
  },
  {
   "cell_type": "code",
   "execution_count": null,
   "source": [
    "# Using the random choice and random shuffle functions from the random module\r\n",
    "import random\r\n",
    "print(random.choice(my_list))\r\n",
    "\r\n",
    "random.shuffle(my_list)\r\n",
    "my_list"
   ],
   "outputs": [],
   "metadata": {}
  },
  {
   "cell_type": "markdown",
   "source": [
    "**Dictionaries** are similar to lists but they are unordered and they use curly braces."
   ],
   "metadata": {}
  },
  {
   "cell_type": "code",
   "execution_count": null,
   "source": [
    "# This is a dictionary\r\n",
    "my_dict = {\"cat\":\"Oliver\", \"color\":\"black\", \"age\":5}\r\n",
    "print(my_dict)"
   ],
   "outputs": [],
   "metadata": {}
  },
  {
   "cell_type": "code",
   "execution_count": null,
   "source": [
    "# Get the keys from a dictionary\r\n",
    "print(my_dict.keys())\r\n",
    "\r\n",
    "# Get the values from a dictionary\r\n",
    "print(my_dict.values())\r\n",
    "\r\n",
    "# Get item pairs\r\n",
    "print(my_dict.items())"
   ],
   "outputs": [],
   "metadata": {}
  },
  {
   "cell_type": "code",
   "execution_count": null,
   "source": [
    "# Using dictionaries in loops\r\n",
    "for v in my_dict.values():\r\n",
    "    print(v)"
   ],
   "outputs": [],
   "metadata": {}
  },
  {
   "cell_type": "code",
   "execution_count": null,
   "source": [
    "# Find out if something is in a dictionary- can add a second argument to set a default value if the item is not found\r\n",
    "print(my_dict.get('cat', ' ')) # If item is not found, it will return the second argument\r\n",
    "\r\n",
    "# Or can use the setdefault method\r\n",
    "my_dict.setdefault('color', 'white')\r\n",
    "print(my_dict.get('color'))\r\n",
    "\r\n",
    "# If item/key does not exist, this will create it\r\n",
    "my_dict.setdefault('species', 'feline')\r\n",
    "print(my_dict.get('species'))"
   ],
   "outputs": [],
   "metadata": {}
  },
  {
   "cell_type": "markdown",
   "source": [
    "#### Summary\r\n",
    "In sum, there are several differences between lists and dictionaries (e.g., a list is contained within brackets, whereas dictionaries are contained within curly braces) but a lot of things can be done with both.  \r\n",
    "\r\n",
    "**Methods for Lists**\r\n",
    "List Methods  | Description               | Arguments     \r\n",
    "--------------|---------------------------|-----------------------\r\n",
    ".append()     | Add item to end of list   | item to add\r\n",
    ".insert()     | Add item anywhere in list | index of list, item to add\r\n",
    ".remove()     | Remove item from list     | item to remove\r\n",
    ".sort()       | Sort items in list        | Optional: reverse=T/F, key=str.lower\r\n",
    ".index()      | Get index of item in list | item\r\n",
    "\r\n",
    "**Methods for Dictionaries**\r\n",
    "Dictionary Methods | Description               | Arguments\r\n",
    "-------------------|---------------------------|---------------\r\n",
    ".keys()            | Get keys of dictionary    | n/a\r\n",
    ".values()          | Get values of dictionary  | n/a\r\n",
    ".items()           | Get dict item pairs       | n/a\r\n",
    ".get()             | Verify if item is in dict | item\r\n",
    ".setdefault()      | Set default value for key | key, value"
   ],
   "metadata": {}
  },
  {
   "cell_type": "markdown",
   "source": [
    "## Working with Strings"
   ],
   "metadata": {}
  },
  {
   "cell_type": "code",
   "execution_count": null,
   "source": [
    "# Easy way of inserting variables into a string - can use regular variables or items from a dictionary\r\n",
    "'My name is %s. I am %s years old and I am %s.' % (my_dict['cat'], my_dict['age'], my_dict['color'])\r\n"
   ],
   "outputs": [],
   "metadata": {}
  },
  {
   "cell_type": "code",
   "execution_count": null,
   "source": [
    "# Using f strings is even easier but cannot use dictionary items\r\n",
    "cat = \"Oliver\"\r\n",
    "f'My name is {cat}.'"
   ],
   "outputs": [],
   "metadata": {}
  },
  {
   "cell_type": "code",
   "execution_count": null,
   "source": [
    "# Using the join and split methods\r\n",
    "myString = \"    My name is Oliver    \"\r\n",
    "mySplitString = myString.split()\r\n",
    "print(mySplitString)\r\n",
    "print(' '.join(mySplitString))\r\n",
    "\r\n",
    "# Can also use join on items in a list\r\n",
    "', '.join(str(my_list))"
   ],
   "outputs": [],
   "metadata": {}
  },
  {
   "cell_type": "markdown",
   "source": [
    "#### Strings Summary\n",
    "The same indexing, slicing, and in/not in operators for strings as can be used with lists.\n",
    "\n",
    "String concatenation can be used to join multiple strings together but an easier (and prettier) way is to use the *%s* method. BUT an even easier way of string interpolation is to use f strings where you can insert the variable names directly in the strings inside curly braces.  \n",
    "\n",
    "Useful methods for strings:\n",
    "* .isupper()\n",
    "* .islower()\n",
    "* .upper()\n",
    "* .lower()\n",
    "* .startswith()\n",
    "* .endswith()\n",
    "* .join()\n",
    "* .split()\n",
    "    + Optional argument can be passed to specify where you want to split the string (e.g., '\\n' for splitting on each new line)\n",
    "* .strip()\n",
    "    + Also rstrip() and lstrip() for removing whitespace (or other values) on only the right side or left side, respectively"
   ],
   "metadata": {}
  },
  {
   "cell_type": "markdown",
   "source": [
    "## Pattern Matching with Regex\r\n",
    "\r\n",
    "To use regular expressions you need to import the `re` module."
   ],
   "metadata": {}
  },
  {
   "cell_type": "code",
   "execution_count": null,
   "source": [
    "import re\r\n",
    "\r\n",
    "vowels = re.compile(r'[aeiou]')"
   ],
   "outputs": [],
   "metadata": {}
  },
  {
   "cell_type": "markdown",
   "source": [
    "#### Regex Summary\r\n",
    "\r\n",
    "Methods for `re` module\r\n",
    "Method      | Description       \r\n",
    "------------|-------------------\r\n",
    ".compile()  | Creates the regex object\r\n",
    ".search()   | Searches the given text for the regex object; returns 1st object found\r\n",
    ".group()    | Returns the `Match` object returned by the .search() method\r\n",
    ".findall()  | Returns a list of all matches\r\n",
    ".sub()      | Replace any matches with the given string\r\n",
    "\r\n",
    "\r\n",
    "Regular Expressions\r\n",
    "Regex   | Description\r\n",
    "--------|---------------------\r\n",
    "\\d      | any digit from 0 to 9\r\n",
    "\\D      | any character NOT a digit\r\n",
    "\\w      | any letter, numeric digit, or underscore\r\n",
    "\\W      | any character NOT a letter, numeric digit, or underscore\r\n",
    "\\s      | any space, tab, or newline\r\n",
    "\\S      | any character NOT space, tab, or newline\r\n",
    "'*'     | match zero or more times\r\n",
    "'+'     | match one or more times\r\n",
    "'?'     | match zero or one time\r\n",
    "'.'     | any character except newline\r\n"
   ],
   "metadata": {}
  },
  {
   "cell_type": "markdown",
   "source": [
    "## Working with Files and Data\r\n",
    "\r\n",
    "Modules that you will need to work with files: `os` (stands for operating system), `shutil` (shell utilities), `pathlib`, and `sys`"
   ],
   "metadata": {}
  },
  {
   "cell_type": "code",
   "execution_count": null,
   "source": [
    "import os, shutil, sys\r\n",
    "from pathlib import Path"
   ],
   "outputs": [],
   "metadata": {}
  },
  {
   "cell_type": "code",
   "execution_count": null,
   "source": [
    "# These two functions do the same thing (prints out the current working directory)\r\n",
    "Path.cwd()\r\n",
    "os.getcwd()"
   ],
   "outputs": [],
   "metadata": {}
  },
  {
   "cell_type": "code",
   "execution_count": null,
   "source": [
    "for folder, subf, filenames in os.walk('./Desktop'):\r\n",
    "    for filename in filenames:\r\n",
    "        if filename.endswith('.csv'):\r\n",
    "            print(filename)"
   ],
   "outputs": [],
   "metadata": {}
  },
  {
   "cell_type": "code",
   "execution_count": null,
   "source": [
    "os.listdir('./Desktop')"
   ],
   "outputs": [],
   "metadata": {}
  },
  {
   "cell_type": "code",
   "execution_count": null,
   "source": [
    "p = Path('./Desktop')\r\n",
    "list(p.glob('*.md'))"
   ],
   "outputs": [],
   "metadata": {}
  },
  {
   "cell_type": "markdown",
   "source": [
    "Methods to use with the Path function\r\n",
    "Method      | Description\r\n",
    "------------|---------------------\r\n",
    ".cwd()      | Return the current working directory\r\n",
    ".home()     | Return the home directory\r\n",
    ".mkdir      | Make a new directory\r\n",
    ".glob()     | Return a list of files in the directory - needs to be used on Path object (see above example)\r\n",
    ".exists()   | Checks to see is a directory or file exists\r\n",
    ".is_file()  | Checks to see if a given object is a file\r\n",
    ".is_dir()   | Checks to see if a given object is a folder/directory\r\n",
    "\r\n",
    "Methods to use with the `os` module\r\n",
    "Method      | Description\r\n",
    "------------|------------------\r\n",
    ".mkdirs()   | Makes as many directories as specified\r\n",
    ".getcwd()   | Returns the current working directory\r\n",
    ".chdir()    | Changes the current working directory\r\n",
    ".listdir()  | Lists all files and folders in a given directory\r\n",
    ".walk()     | Returns all folders, subfolders, and files in the given directory"
   ],
   "metadata": {}
  },
  {
   "cell_type": "markdown",
   "source": [
    "## Web Scraping  \r\n",
    "\r\n",
    "When an API is not available, you can use web scraping to get data from a website.\r\n",
    "\r\n",
    "Main useful modules are:\r\n",
    "* `requests` - can download webpages or JSON data from webpages\r\n",
    "* `bs4` - BeautifulSoup4 is used for parsing HTML data (e.g., after getting data with a `request`)\r\n",
    "* `webbroser` - used to open webpages\r\n",
    "* `selenium` - used to open and control webpages"
   ],
   "metadata": {}
  },
  {
   "cell_type": "code",
   "execution_count": 3,
   "source": [
    "import webbrowser, sys, requests, bs4, pyperclip"
   ],
   "outputs": [],
   "metadata": {}
  },
  {
   "cell_type": "markdown",
   "source": [
    "### Using the webbrowser module"
   ],
   "metadata": {}
  },
  {
   "cell_type": "code",
   "execution_count": null,
   "source": [
    "# Can open any URL using webbrowser\r\n",
    "search = 'Fredericksburg, VA'\r\n",
    "webbrowser.open('https://www.google.com/maps/place/' + search)"
   ],
   "outputs": [],
   "metadata": {}
  },
  {
   "cell_type": "markdown",
   "source": [
    "### Using requests and Beautiful Soup"
   ],
   "metadata": {}
  },
  {
   "cell_type": "markdown",
   "source": [
    "Method      | Description\r\n",
    "------------|--------------------------\r\n",
    ".text()     | Returns the text of the response\r\n",
    ".url()      | Returns the url of the response\r\n",
    ".select()   | Returns a list of elements\r\n",
    ".getText()  | Returns the text of the element"
   ],
   "metadata": {}
  },
  {
   "cell_type": "code",
   "execution_count": null,
   "source": [
    "# Can use requests to get a webpage and parses it using bs4\r\n",
    "searchTerms = 'psychopathy'\r\n",
    "res = requests.get('https://scholar.google.com/scholar?as_q=' + searchTerms + '&as_epq=&as_oq=&as_eq=&as_occt=any&as_sauthors=&as_publication=&as_ylo=2010&as_yhi=2021&hl=en&as_sdt=0%2C47')\r\n",
    "res.raise_for_status()"
   ],
   "outputs": [],
   "metadata": {}
  },
  {
   "cell_type": "code",
   "execution_count": 14,
   "source": [
    "searchTerms = 'sexual sadism'\r\n",
    "res2 = requests.get('https://scholar.google.com/scholar?scisbd=1&q=' + searchTerms + '&hl=en&as_sdt=0,47')\r\n",
    "res2.raise_for_status()"
   ],
   "outputs": [],
   "metadata": {}
  },
  {
   "cell_type": "code",
   "execution_count": 15,
   "source": [
    "# Create a soup object to parse the contents of the webpage and select items of interest \r\n",
    "soup = bs4.BeautifulSoup(res2.text, 'html.parser')\r\n",
    "published = soup.select('span.gs_age')\r\n",
    "title = soup.select('h3.gs_rt')\r\n",
    "link = soup.select('div.gs_ri')\r\n"
   ],
   "outputs": [],
   "metadata": {}
  },
  {
   "cell_type": "code",
   "execution_count": null,
   "source": [
    "# Now can loop through results and combine them into a dataframe for easy access\r\n",
    "import pandas as pd\r\n",
    "title_list = []\r\n",
    "pub_date_list = []\r\n",
    "links = []\r\n",
    "\r\n",
    "for i in title:\r\n",
    "    title_list.append(i.getText())\r\n",
    "\r\n",
    "for i in published:\r\n",
    "    pub_date_list.append(i.getText())\r\n",
    "\r\n",
    "for i in link:\r\n",
    "    links.append(i.select('h3.gs_rt a')[0].get('href'))\r\n",
    "\r\n",
    "df = pd.DataFrame({'Title': title_list, 'Published Date': pub_date_list, 'Link': links})\r\n",
    "df.head()"
   ],
   "outputs": [],
   "metadata": {}
  },
  {
   "cell_type": "markdown",
   "source": [
    "## Working with Excel and PDFs\r\n",
    "\r\n",
    "For excel files, use the `openpyxl` module and for PDFs use either `pdfminer` or `PyPDF2`.  \r\n",
    "\r\n",
    "*Note: PDFs must be opened in binary mode ('rb') with Python's `open` function*\r\n",
    "\r\n",
    "Methods for Excel:\r\n",
    "Method                | Description\r\n",
    "----------------------|-------------------\r\n",
    ".load_workbook()      | Loads an existing wkbk\r\n",
    ".save()               | Saves the wkbk\r\n",
    ".create_sheet()       | Creates a new sheet in current wkbk\r\n",
    ".get_sheet_by_name()  | Returns a sheet by name\r\n",
    ".get_sheet_names()    | Returns a list of all sheet names\r\n",
    ".Workbook()           | Creates a new wkbk \r\n",
    "\r\n",
    "Methods for PDFs:\r\n",
    "Method                | Description\r\n",
    "----------------------|------------------------\r\n",
    ".PdfFileReader()      | Opens a PDF file\r\n",
    ".PdfFileWriter()      | Creates a new PDF file\r\n",
    ".numPages()           | Returns the number of pages in the PDF\r\n",
    ".getPage()            | Returns a page from the PDF\r\n",
    ".extractText()        | Returns the text from the PDF"
   ],
   "metadata": {}
  },
  {
   "cell_type": "markdown",
   "source": [
    "## Email and GUI Automation\r\n",
    "\r\n",
    "For sending emails with Python, you can use the `smtplib` module but it is (somewhat) easier and safer to use the `ezgmail` module because it doesn't require you to have your username and password in the source code.\r\n",
    "\r\n",
    "For gui automation, use the `pyautogui` module."
   ],
   "metadata": {}
  },
  {
   "cell_type": "code",
   "execution_count": null,
   "source": [
    "import pyautogui, smtplib, ezgmail"
   ],
   "outputs": [],
   "metadata": {}
  }
 ],
 "metadata": {
  "kernelspec": {
   "name": "python3",
   "display_name": "Python 3.8.8 64-bit ('base': conda)"
  },
  "language_info": {
   "codemirror_mode": {
    "name": "ipython",
    "version": 3
   },
   "file_extension": ".py",
   "mimetype": "text/x-python",
   "name": "python",
   "nbconvert_exporter": "python",
   "pygments_lexer": "ipython3",
   "version": "3.8.8"
  },
  "interpreter": {
   "hash": "df24d817431e934cf9b3c0b701cfc52e62364ab69493d16218b2fe390651adea"
  }
 },
 "nbformat": 4,
 "nbformat_minor": 5
}