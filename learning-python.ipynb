{
 "cells": [
  {
   "cell_type": "markdown",
   "metadata": {},
   "source": [
    "# Basic Python Reference Guide"
   ]
  },
  {
   "cell_type": "markdown",
   "metadata": {},
   "source": [
    "## Lists and Dictionaries"
   ]
  },
  {
   "cell_type": "code",
   "execution_count": null,
   "metadata": {},
   "outputs": [],
   "source": [
    "# This is a list\n",
    "my_list = [\"cat\", \"bat\", 1, 2, 3, 4, True]\n",
    "print(my_list)"
   ]
  },
  {
   "cell_type": "markdown",
   "metadata": {},
   "source": [
    "You can add or remove items from a list using the following methods."
   ]
  },
  {
   "cell_type": "code",
   "execution_count": null,
   "metadata": {},
   "outputs": [],
   "source": [
    "# Add to the end of the list\n",
    "my_list.append(\"rat\")\n",
    "print(my_list)\n",
    "\n",
    "# Insert something in middle of list - first argument is the index of the list, the second is the item to insert\n",
    "my_list.insert(6, 5)\n",
    "print(my_list)\n",
    "\n",
    "# Remove item from list\n",
    "my_list.remove(\"rat\")\n",
    "print(my_list)\n",
    "\n",
    "# Or can use the del statement and index of item to remove\n",
    "del my_list[7]\n",
    "print(my_list)"
   ]
  },
  {
   "cell_type": "markdown",
   "metadata": {},
   "source": [
    "You can access items within a list using the following methods.\n",
    "\n",
    "*Note: In Python, the index starts at 0*"
   ]
  },
  {
   "cell_type": "code",
   "execution_count": null,
   "metadata": {},
   "outputs": [],
   "source": [
    "# Access items with the index\n",
    "print(my_list[1])\n",
    "\n",
    "# Can use that in string concatenation also - works without the print() statement too\n",
    "print(\"I have a \" + my_list[0])\n",
    "print(\"I have a \" + my_list[0] + \" who is \" + str(my_list[6]) + \" years old\")\n",
    "\n",
    "# Or find the index of a given item\n",
    "print(my_list.index('cat'))"
   ]
  },
  {
   "cell_type": "code",
   "execution_count": null,
   "metadata": {},
   "outputs": [],
   "source": [
    "# Use slicing to create a subset of original list\n",
    "shorter_list = my_list[2:6]\n",
    "shorter_list"
   ]
  },
  {
   "cell_type": "code",
   "execution_count": null,
   "metadata": {},
   "outputs": [],
   "source": [
    "# Using lists in loops\n",
    "for item in my_list:\n",
    "    print(item)\n",
    "\n",
    "for i in range(len(my_list)):\n",
    "    print('Index ' + str(i) + ' in list is: ' + str(my_list[i]))\n",
    "\n",
    "# This loop does the exact same as the one above using the enumerate function\n",
    "for index, item in enumerate(my_list):\n",
    "    print('Index ' + str(index) + ' in list is: ' + str(item))"
   ]
  },
  {
   "cell_type": "code",
   "execution_count": null,
   "metadata": {},
   "outputs": [],
   "source": [
    "# The in and not in operators - returns boolean value\n",
    "'cat' in my_list\n",
    "'bat' not in my_list\n",
    "\n",
    "if 'cat' not in my_list:\n",
    "    print('There is no cat')\n",
    "else:\n",
    "    print('There is a cat!')"
   ]
  },
  {
   "cell_type": "markdown",
   "metadata": {},
   "source": [
    "You can generate random lists or select a random item from a list with the `random` module."
   ]
  },
  {
   "cell_type": "code",
   "execution_count": null,
   "metadata": {},
   "outputs": [],
   "source": [
    "# Using the random choice and random shuffle functions from the random module\n",
    "import random\n",
    "print(random.choice(my_list))\n",
    "\n",
    "random.shuffle(my_list)\n",
    "my_list"
   ]
  },
  {
   "cell_type": "markdown",
   "metadata": {},
   "source": [
    "**Dictionaries** are similar to lists but they are unordered and they use curly braces."
   ]
  },
  {
   "cell_type": "code",
   "execution_count": null,
   "metadata": {},
   "outputs": [],
   "source": [
    "# This is a dictionary\n",
    "my_dict = {\"cat\":\"Oliver\", \"color\":\"black\", \"age\":5}\n",
    "print(my_dict)"
   ]
  },
  {
   "cell_type": "code",
   "execution_count": null,
   "metadata": {},
   "outputs": [],
   "source": [
    "# Get the keys from a dictionary\n",
    "print(my_dict.keys())\n",
    "\n",
    "# Get the values from a dictionary\n",
    "print(my_dict.values())\n",
    "\n",
    "# Get item pairs\n",
    "print(my_dict.items())"
   ]
  },
  {
   "cell_type": "code",
   "execution_count": null,
   "metadata": {},
   "outputs": [],
   "source": [
    "# Using dictionaries in loops\n",
    "for v in my_dict.values():\n",
    "    print(v)"
   ]
  },
  {
   "cell_type": "code",
   "execution_count": null,
   "metadata": {},
   "outputs": [],
   "source": [
    "# Find out if something is in a dictionary- can add a second argument to set a default value if the item is not found\n",
    "print(my_dict.get('cat', ' ')) # If item is not found, it will return the second argument\n",
    "\n",
    "# Or can use the setdefault method\n",
    "my_dict.setdefault('color', 'white')\n",
    "print(my_dict.get('color'))\n",
    "\n",
    "# If item/key does not exist, this will create it\n",
    "my_dict.setdefault('species', 'feline')\n",
    "print(my_dict.get('species'))"
   ]
  },
  {
   "cell_type": "markdown",
   "metadata": {},
   "source": [
    "#### Summary\n",
    "In sum, there are several differences between lists and dictionaries (e.g., a list is contained within brackets, whereas dictionaries are contained within curly braces) but a lot of things can be done with both.  \n",
    "\n",
    "**Methods for Lists**\n",
    "List Methods  | Description               | Arguments     \n",
    "--------------|---------------------------|-----------------------\n",
    ".append()     | Add item to end of list   | item to add\n",
    ".insert()     | Add item anywhere in list | index of list, item to add\n",
    ".remove()     | Remove item from list     | item to remove\n",
    ".sort()       | Sort items in list        | Optional: reverse=T/F, key=str.lower\n",
    ".index()      | Get index of item in list | item\n",
    "\n",
    "**Methods for Dictionaries**\n",
    "Dictionary Methods | Description               | Arguments\n",
    "-------------------|---------------------------|---------------\n",
    ".keys()            | Get keys of dictionary    | n/a\n",
    ".values()          | Get values of dictionary  | n/a\n",
    ".items()           | Get dict item pairs       | n/a\n",
    ".get()             | Verify if item is in dict | item\n",
    ".setdefault()      | Set default value for key | key, value"
   ]
  },
  {
   "cell_type": "markdown",
   "metadata": {},
   "source": [
    "## Working with Strings"
   ]
  },
  {
   "cell_type": "code",
   "execution_count": null,
   "metadata": {},
   "outputs": [],
   "source": [
    "# Easy way of inserting variables into a string - can use regular variables or items from a dictionary\n",
    "'My name is %s. I am %s years old and I am %s.' % (my_dict['cat'], my_dict['age'], my_dict['color'])\n"
   ]
  },
  {
   "cell_type": "code",
   "execution_count": null,
   "metadata": {},
   "outputs": [],
   "source": [
    "# Using f strings is even easier but cannot use dictionary items\n",
    "cat = \"Oliver\"\n",
    "f'My name is {cat}.'"
   ]
  },
  {
   "cell_type": "code",
   "execution_count": null,
   "metadata": {},
   "outputs": [],
   "source": [
    "# Using the join and split methods\n",
    "myString = \"    My name is Oliver    \"\n",
    "mySplitString = myString.split()\n",
    "print(mySplitString)\n",
    "print(' '.join(mySplitString))\n",
    "\n",
    "# Can also use join on items in a list\n",
    "', '.join(str(my_list))"
   ]
  },
  {
   "cell_type": "markdown",
   "metadata": {},
   "source": [
    "#### Strings Summary\n",
    "The same indexing, slicing, and in/not in operators for strings as can be used with lists.\n",
    "\n",
    "String concatenation can be used to join multiple strings together but an easier (and prettier) way is to use the *%s* method. BUT an even easier way of string interpolation is to use f strings where you can insert the variable names directly in the strings inside curly braces.  \n",
    "\n",
    "Useful methods for strings:\n",
    "* .isupper()\n",
    "* .islower()\n",
    "* .upper()\n",
    "* .lower()\n",
    "* .startswith()\n",
    "* .endswith()\n",
    "* .join()\n",
    "* .split()\n",
    "    + Optional argument can be passed to specify where you want to split the string (e.g., '\\n' for splitting on each new line)\n",
    "* .strip()\n",
    "    + Also rstrip() and lstrip() for removing whitespace (or other values) on only the right side or left side, respectively"
   ]
  },
  {
   "cell_type": "markdown",
   "metadata": {},
   "source": [
    "## Pattern Matching with Regex\n",
    "\n",
    "To use regular expressions you need to import the `re` module."
   ]
  },
  {
   "cell_type": "code",
   "execution_count": null,
   "metadata": {},
   "outputs": [],
   "source": [
    "import re\n",
    "\n",
    "vowels = re.compile(r'[aeiou]')"
   ]
  },
  {
   "cell_type": "markdown",
   "metadata": {},
   "source": [
    "#### Regex Summary\n",
    "\n",
    "Methods for `re` module\n",
    "Method      | Description       \n",
    "------------|-------------------\n",
    ".compile()  | Creates the regex object\n",
    ".search()   | Searches the given text for the regex object; returns 1st object found\n",
    ".group()    | Returns the `Match` object returned by the .search() method\n",
    ".findall()  | Returns a list of all matches\n",
    ".sub()      | Replace any matches with the given string\n",
    "\n",
    "\n",
    "Regular Expressions\n",
    "Regex   | Description\n",
    "--------|---------------------\n",
    "\\d      | any digit from 0 to 9\n",
    "\\D      | any character NOT a digit\n",
    "\\w      | any letter, numeric digit, or underscore\n",
    "\\W      | any character NOT a letter, numeric digit, or underscore\n",
    "\\s      | any space, tab, or newline\n",
    "\\S      | any character NOT space, tab, or newline\n",
    "'*'     | match zero or more times\n",
    "'+'     | match one or more times\n",
    "'?'     | match zero or one time\n",
    "'.'     | any character except newline\n"
   ]
  },
  {
   "cell_type": "markdown",
   "metadata": {},
   "source": [
    "## Working with Files\n",
    "\n",
    "Modules that you will need to work with files: `os` (stands for operating system), `shutil` (shell utilities), `pathlib`, and `sys`"
   ]
  },
  {
   "cell_type": "code",
   "execution_count": null,
   "metadata": {},
   "outputs": [],
   "source": [
    "import os, shutil, sys\n",
    "from pathlib import Path"
   ]
  },
  {
   "cell_type": "code",
   "execution_count": null,
   "metadata": {},
   "outputs": [],
   "source": [
    "# These two functions do the same thing (prints out the current working directory)\n",
    "Path.cwd()\n",
    "os.getcwd()"
   ]
  },
  {
   "cell_type": "code",
   "execution_count": null,
   "metadata": {},
   "outputs": [],
   "source": [
    "for folder, subf, filenames in os.walk('./Desktop'):\n",
    "    for filename in filenames:\n",
    "        if filename.endswith('.csv'):\n",
    "            print(filename)"
   ]
  },
  {
   "cell_type": "code",
   "execution_count": null,
   "metadata": {},
   "outputs": [],
   "source": [
    "p = Path('./Desktop')\n",
    "list(p.glob('*.md'))"
   ]
  },
  {
   "cell_type": "code",
   "execution_count": null,
   "metadata": {},
   "outputs": [],
   "source": [
    "with open ('NAME OF FILE', 'r') as myfile:\n",
    "    contents = myfile.read()\n",
    "    myfile.close()\n",
    "print(contents)"
   ]
  },
  {
   "cell_type": "markdown",
   "metadata": {},
   "source": [
    "Methods to use with the Path function\n",
    "Method      | Description\n",
    "------------|---------------------\n",
    ".cwd()      | Return the current working directory\n",
    ".home()     | Return the home directory\n",
    ".mkdir      | Make a new directory\n",
    ".glob()     | Return a list of files in the directory - needs to be used on Path object (see above example)\n",
    ".exists()   | Checks to see is a directory or file exists\n",
    ".is_file()  | Checks to see if a given object is a file\n",
    ".is_dir()   | Checks to see if a given object is a folder/directory\n",
    "\n",
    "Methods to use with the `os` module\n",
    "Method      | Description\n",
    "------------|------------------\n",
    ".mkdirs()   | Makes as many directories as specified\n",
    ".getcwd()   | Returns the current working directory\n",
    ".chdir()    | Changes the current working directory\n",
    ".listdir()  | Lists all files and folders in a given directory\n",
    ".walk()     | Returns all folders, subfolders, and files in the given directory"
   ]
  },
  {
   "cell_type": "markdown",
   "metadata": {},
   "source": [
    "## Data Manipulation and Analysis with Pandas"
   ]
  },
  {
   "cell_type": "code",
   "execution_count": 1,
   "metadata": {},
   "outputs": [],
   "source": [
    "# Import the pandas module\n",
    "import pandas as pd\n",
    "\n",
    "# Load the data \n",
    "df = pd.read_csv('data.csv')\n",
    "\n",
    "# Other methods for loading data include pd.read_excel(),pd.read_spss, pd.read_json(), pd.read_html(), and pd.read_xml()"
   ]
  },
  {
   "cell_type": "code",
   "execution_count": null,
   "metadata": {},
   "outputs": [],
   "source": [
    "# Using .describe() returns summary statistics for numeric data\n",
    "# Adding the 'include' argument will return information for categorical data\n",
    "df.describe(include=['O'])"
   ]
  },
  {
   "cell_type": "markdown",
   "metadata": {},
   "source": [
    "Methods to use with the `pandas` module\n",
    "\n",
    "Method                      | Description\n",
    "----------------------------|------------------\n",
    ".read_csv()                 | Reads a csv file into a dataframe\n",
    ".to_csv()                   | Writes a dataframe to a csv file\n",
    ".head()                     | Returns the first n rows of a dataframe\n",
    ".tail()                     | Returns the last n rows of a dataframe\n",
    ".info()                     | Returns the number of rows and columns in a dataframe\n",
    ".describe()                 | Returns the mean, median, standard deviation, and other statistics for a dataframe\n",
    "df.[var_name].mode()        | Returns the most common value in a variable within a dataframe\n",
    "df.[var_name].skew()        | Returns the skewness of a variable within a dataframe\n",
    "df.[var_name].kurt()        | Returns the kurtosis of a variable within a dataframe\n",
    "df.[var_name].value_counts()| Returns the number of times each value occurs within a variable within a dataframe\n",
    "df.groupby(['var_name'])    | Groups the dataframe by the specified variable - can use methods above to get grouped values\n"
   ]
  },
  {
   "cell_type": "markdown",
   "metadata": {},
   "source": [
    "## Web Scraping  \n",
    "\n",
    "Main useful modules are:\n",
    "* `requests` - can download webpages or JSON data from webpages\n",
    "* `bs4` - BeautifulSoup4 is used for parsing HTML data (e.g., after getting data with a `request`)\n",
    "* `webbroser` - used to open webpages\n",
    "* `selenium` - used to open and control webpages"
   ]
  },
  {
   "cell_type": "code",
   "execution_count": 2,
   "metadata": {},
   "outputs": [],
   "source": [
    "import webbrowser, sys, requests, selenium, bs4, pyperclip"
   ]
  },
  {
   "cell_type": "markdown",
   "metadata": {},
   "source": [
    "### Using the webbrowser module"
   ]
  },
  {
   "cell_type": "code",
   "execution_count": null,
   "metadata": {},
   "outputs": [],
   "source": [
    "# Can open any URL using webbrowser\n",
    "search = 'Fredericksburg, VA'\n",
    "webbrowser.open('https://www.google.com/maps/place/' + search)"
   ]
  },
  {
   "cell_type": "markdown",
   "metadata": {},
   "source": [
    "### Using requests and Beautiful Soup"
   ]
  },
  {
   "cell_type": "code",
   "execution_count": null,
   "metadata": {},
   "outputs": [],
   "source": [
    "# Can use requests to get a webpage and parses it using bs4\n",
    "searchTerms = 'psychopathy'\n",
    "res = requests.get('https://scholar.google.com/scholar?as_q=' + searchTerms + '&as_epq=&as_oq=&as_eq=&as_occt=any&as_sauthors=&as_publication=&as_ylo=2010&as_yhi=2021&hl=en&as_sdt=0%2C47')\n",
    "res.raise_for_status()"
   ]
  },
  {
   "cell_type": "code",
   "execution_count": 26,
   "metadata": {},
   "outputs": [],
   "source": [
    "searchTerms = 'sadism'\n",
    "res2 = requests.get('https://scholar.google.com/scholar?scisbd=1&q=' + searchTerms + '&hl=en&as_sdt=0,47')\n",
    "res2.raise_for_status()"
   ]
  },
  {
   "cell_type": "code",
   "execution_count": 27,
   "metadata": {},
   "outputs": [],
   "source": [
    "# Create a soup object to parse the contents of the webpage and select items of interest \n",
    "soup = bs4.BeautifulSoup(res2.text, 'html.parser')\n",
    "published = soup.select('span.gs_age')\n",
    "title = soup.select('h3.gs_rt')\n",
    "link = soup.select('div.gs_ri')\n"
   ]
  },
  {
   "cell_type": "code",
   "execution_count": 28,
   "metadata": {},
   "outputs": [
    {
     "data": {
      "text/html": [
       "<div>\n",
       "<style scoped>\n",
       "    .dataframe tbody tr th:only-of-type {\n",
       "        vertical-align: middle;\n",
       "    }\n",
       "\n",
       "    .dataframe tbody tr th {\n",
       "        vertical-align: top;\n",
       "    }\n",
       "\n",
       "    .dataframe thead th {\n",
       "        text-align: right;\n",
       "    }\n",
       "</style>\n",
       "<table border=\"1\" class=\"dataframe\">\n",
       "  <thead>\n",
       "    <tr style=\"text-align: right;\">\n",
       "      <th></th>\n",
       "      <th>Title</th>\n",
       "      <th>Published Date</th>\n",
       "    </tr>\n",
       "  </thead>\n",
       "  <tbody>\n",
       "    <tr>\n",
       "      <th>0</th>\n",
       "      <td>Dark or disturbed?: Predicting aggression from...</td>\n",
       "      <td>3 days ago -</td>\n",
       "    </tr>\n",
       "    <tr>\n",
       "      <th>1</th>\n",
       "      <td>Psychological and physical cues to vulnerabili...</td>\n",
       "      <td>7 days ago -</td>\n",
       "    </tr>\n",
       "    <tr>\n",
       "      <th>2</th>\n",
       "      <td>[HTML][HTML] A qualitative analysis of sadisti...</td>\n",
       "      <td>7 days ago -</td>\n",
       "    </tr>\n",
       "    <tr>\n",
       "      <th>3</th>\n",
       "      <td>Hormonal response to perceived emotional distr...</td>\n",
       "      <td>7 days ago -</td>\n",
       "    </tr>\n",
       "    <tr>\n",
       "      <th>4</th>\n",
       "      <td>The Decadent Novel</td>\n",
       "      <td>8 days ago -</td>\n",
       "    </tr>\n",
       "  </tbody>\n",
       "</table>\n",
       "</div>"
      ],
      "text/plain": [
       "                                               Title Published Date\n",
       "0  Dark or disturbed?: Predicting aggression from...  3 days ago - \n",
       "1  Psychological and physical cues to vulnerabili...  7 days ago - \n",
       "2  [HTML][HTML] A qualitative analysis of sadisti...  7 days ago - \n",
       "3  Hormonal response to perceived emotional distr...  7 days ago - \n",
       "4                                 The Decadent Novel  8 days ago - "
      ]
     },
     "execution_count": 28,
     "metadata": {},
     "output_type": "execute_result"
    }
   ],
   "source": [
    "title_list = []\n",
    "pub_date_list = []\n",
    "\n",
    "for i in title:\n",
    "    title_list.append(i.getText())\n",
    "\n",
    "for i in published:\n",
    "    pub_date_list.append(i.getText())\n",
    "\n",
    "df = pd.DataFrame({'Title': title_list, 'Published Date': pub_date_list})\n",
    "df.head()\n",
    "#print('\\n'.join(title_list) + ' ' + '\\n'.join(pub_date_list))\n",
    "\n",
    "#link[0].select('h3.gs_rt a')[0].get('href')"
   ]
  },
  {
   "cell_type": "code",
   "execution_count": 30,
   "metadata": {},
   "outputs": [
    {
     "name": "stdout",
     "output_type": "stream",
     "text": [
      "https://onlinelibrary.wiley.com/doi/abs/10.1002/ab.21990\n",
      "https://www.sciencedirect.com/science/article/pii/S0191886921005687\n",
      "https://indexarticles.com/reference/british-journal-of-forensic-practice-the/a-qualitative-analysis-of-sadistic-endorsement-in-a-group-of-irish-undergraduates/\n",
      "https://www.sciencedirect.com/science/article/pii/S0191886921005596\n",
      "https://www.oxfordhandbooks.com/view/10.1093/oxfordhb/9780190066956.001.0001/oxfordhb-9780190066956-e-16\n",
      "https://link.springer.com/article/10.1007/s00414-021-02674-0\n",
      "https://www.ejournals.eu/TP/Nr-5/art/19637/\n",
      "https://link.springer.com/article/10.1007/s12144-021-02174-9\n",
      "https://books.google.com/books?hl=en&lr=&id=99c7EAAAQBAJ&oi=fnd&pg=PT7&dq=sadism&ots=cajAUMrvBS&sig=NLhwm6V5gBQNH2Qc9-OZBfEVW8I\n",
      "https://riviste.unimi.it/index.php/schermi/article/view/14214\n"
     ]
    }
   ],
   "source": [
    "for item in link: \n",
    "    print(item.select('h3.gs_rt a')[0].get('href'))"
   ]
  },
  {
   "cell_type": "markdown",
   "metadata": {},
   "source": [
    "Method      | Description\n",
    "------------|--------------------------\n",
    ".text()     | Returns the text of the response\n",
    ".url()      | Returns the url of the response\n",
    ".select()   | Returns a list of elements\n",
    ".getText()  | Returns the text of the element"
   ]
  },
  {
   "cell_type": "markdown",
   "metadata": {},
   "source": [
    "## Working with Excel and PDFs\n",
    "\n",
    "For excel files, use the `openpyxl` module and for PDFs use either `pdfminer` or `PyPDF2`.  \n",
    "\n",
    "*Note: PDFs must be opened in binary mode ('rb') with Python's `open` function*\n",
    "\n",
    "Methods for Excel:\n",
    "Method                | Description\n",
    "----------------------|-------------------\n",
    ".load_workbook()      | Loads an existing wkbk\n",
    ".save()               | Saves the wkbk\n",
    ".create_sheet()       | Creates a new sheet in current wkbk\n",
    ".get_sheet_by_name()  | Returns a sheet by name\n",
    ".get_sheet_names()    | Returns a list of all sheet names\n",
    ".Workbook()           | Creates a new wkbk \n",
    "\n",
    "Methods for PDFs:\n",
    "Method                | Description\n",
    "----------------------|------------------------\n",
    ".PdfFileReader()      | Opens a PDF file\n",
    ".PdfFileWriter()      | Creates a new PDF file\n",
    ".numPages()           | Returns the number of pages in the PDF\n",
    ".getPage()            | Returns a page from the PDF\n",
    ".extractText()        | Returns the text from the PDF"
   ]
  },
  {
   "cell_type": "markdown",
   "metadata": {},
   "source": [
    "## Email and GUI Automation\n",
    "\n",
    "For sending emails with Python, you can use the `smtplib` module but it is (somewhat) easier and safer to use the `ezgmail` module because it doesn't require you to have your username and password in the source code.\n",
    "\n",
    "For gui automation, use the `pyautogui` module."
   ]
  },
  {
   "cell_type": "code",
   "execution_count": null,
   "metadata": {},
   "outputs": [],
   "source": [
    "import pyautogui, smtplib, ezgmail"
   ]
  }
 ],
 "metadata": {
  "interpreter": {
   "hash": "eed0ff3c3f7dbdf7703bfa80ad1ad3806aeb8f63baa04d3527d904229c654093"
  },
  "kernelspec": {
   "display_name": "Python 3.8.8 64-bit ('base': conda)",
   "name": "python3"
  },
  "language_info": {
   "codemirror_mode": {
    "name": "ipython",
    "version": 3
   },
   "file_extension": ".py",
   "mimetype": "text/x-python",
   "name": "python",
   "nbconvert_exporter": "python",
   "pygments_lexer": "ipython3",
   "version": "3.8.8"
  }
 },
 "nbformat": 4,
 "nbformat_minor": 5
}
